{
  "nbformat": 4,
  "nbformat_minor": 0,
  "metadata": {
    "colab": {
      "name": "ingrafico_DF.ipynb",
      "provenance": [],
      "authorship_tag": "ABX9TyMFuDVQHT2r3sYhmYBVBnyX",
      "include_colab_link": true
    },
    "kernelspec": {
      "name": "python3",
      "display_name": "Python 3"
    },
    "language_info": {
      "name": "python"
    }
  },
  "cells": [
    {
      "cell_type": "markdown",
      "metadata": {
        "id": "view-in-github",
        "colab_type": "text"
      },
      "source": [
        "<a href=\"https://colab.research.google.com/github/matheus0sa/matheus0sa/blob/main/ingrafico_DF.ipynb\" target=\"_parent\"><img src=\"https://colab.research.google.com/assets/colab-badge.svg\" alt=\"Open In Colab\"/></a>"
      ]
    },
    {
      "cell_type": "code",
      "execution_count": null,
      "metadata": {
        "colab": {
          "base_uri": "https://localhost:8080/"
        },
        "id": "fX8vTwAlBRUj",
        "outputId": "1734bb31-fb32-49d8-c894-48844803694b"
      },
      "outputs": [
        {
          "output_type": "stream",
          "name": "stdout",
          "text": [
            "Requirement already satisfied: cv in /usr/local/lib/python3.7/dist-packages (1.0.0)\n"
          ]
        }
      ],
      "source": [
        "!pip install cv"
      ]
    },
    {
      "cell_type": "code",
      "source": [
        "import cv2\n",
        "from google.colab.patches import cv2_imshow\n",
        "import numpy as np\n",
        "import pandas as pd\n",
        "import re\n",
        "import os"
      ],
      "metadata": {
        "id": "7QU2GOIrBeUK"
      },
      "execution_count": null,
      "outputs": []
    },
    {
      "cell_type": "code",
      "source": [
        "from google.colab import drive\n",
        "drive.mount('/content/drive')"
      ],
      "metadata": {
        "id": "A_hdD1SuIQK2"
      },
      "execution_count": null,
      "outputs": []
    },
    {
      "cell_type": "code",
      "source": [
        "img = cv2.imread('df (4).png')"
      ],
      "metadata": {
        "id": "ZivqJZ-DBeWZ"
      },
      "execution_count": null,
      "outputs": []
    },
    {
      "cell_type": "code",
      "source": [
        "ras = {20:33,\n",
        "        33:31,\n",
        "        4:79,\n",
        "        19:46,\n",
        "        9:20,\n",
        "        11:56,\n",
        "        31:77,\n",
        "        2:0,\n",
        "        10:41,\n",
        "        28:66,\n",
        "        27:5,\n",
        "        18:64,\n",
        "        16:48,\n",
        "        8:43,\n",
        "        7:10,\n",
        "        24:18,\n",
        "        6:69,\n",
        "        1:51,\n",
        "        15:13,\n",
        "        17:28,\n",
        "        21:15,\n",
        "        13:3,\n",
        "        14:8,\n",
        "        25:61,\n",
        "        29:59,\n",
        "        5:71,\n",
        "        26:74,\n",
        "        32:23,\n",
        "        22:54,\n",
        "        23:26,\n",
        "        30:36,\n",
        "        32:23}\n"
      ],
      "metadata": {
        "id": "sa_tw_8qBeY6"
      },
      "execution_count": null,
      "outputs": []
    },
    {
      "cell_type": "code",
      "source": [
        "'''cores = []\n",
        "for y in range(0, img.shape[0]):\n",
        "  for x in range(0, img.shape[1]):\n",
        "    if list(img[y, x])[2] == 255:\n",
        "      cores.append(list(img[y, x]))\n",
        "\n",
        "cores_unicas =[]\n",
        "for cor in cores:\n",
        "  if cor not in cores_unicas:\n",
        "    cores_unicas.append(cor)\n",
        "cores_unicas'''"
      ],
      "metadata": {
        "id": "wXtAYpUcB5te"
      },
      "execution_count": null,
      "outputs": []
    },
    {
      "cell_type": "code",
      "source": [
        "cores = [  [0, 69, 255],\n",
        "            [0, 79, 255],\n",
        "            [0, 74, 255],\n",
        "            [0, 77, 255],\n",
        "            [0, 71, 255],\n",
        "            [0, 51, 255],\n",
        "            [0, 64, 255],\n",
        "            [0, 66, 255],\n",
        "            [0, 10, 255],\n",
        "            [0, 26, 255],\n",
        "            [0, 59, 255],\n",
        "            [0, 20, 255],\n",
        "            [0, 36, 255],\n",
        "            [0, 61, 255],\n",
        "            [0, 56, 255],\n",
        "            [0, 54, 255],\n",
        "            [0, 89, 255],\n",
        "            [0, 48, 255],\n",
        "            [0, 23, 255],\n",
        "            [0, 5, 255],\n",
        "            [0, 41, 255],\n",
        "            [0, 33, 255],\n",
        "            [0, 38, 255],\n",
        "            [0, 46, 255],\n",
        "            [0, 31, 255],\n",
        "            [0, 43, 255],\n",
        "            [0, 18, 255],\n",
        "            [0, 15, 255],\n",
        "            [0, 8, 255],\n",
        "            [0, 28, 255],\n",
        "            [0, 13, 255],\n",
        "            [0, 0, 255],\n",
        "            [0, 25, 255],\n",
        "            [0, 3, 255],\n",
        "            [0, 100, 255]]\n"
      ],
      "metadata": {
        "id": "51J-oIU1Cr7_"
      },
      "execution_count": null,
      "outputs": []
    },
    {
      "cell_type": "code",
      "source": [
        "\n",
        "'''\n",
        "dic = {ra:[b, g, r]}\n",
        "'''\n",
        "\n",
        "temp = str(img.tolist())\n",
        "def colorir (dic):\n",
        "  global ras\n",
        "  global temp\n",
        "  for ra in ras:\n",
        "    if ra in list(dic):\n",
        "      temp = temp.replace(str([0, ras[ra], 255]),str(dic[ra]))   \n",
        "    else:  \n",
        "      temp = temp.replace(str([0, ras[ra], 255]),\"[225, 225, 225]\")\n",
        "  mapa = np.array(eval(temp))\n",
        "  #cv2.imwrite('mapa.png',mapa)\n",
        "  cv2_imshow(mapa)"
      ],
      "metadata": {
        "id": "jvIItBqpBqZ9"
      },
      "execution_count": null,
      "outputs": []
    },
    {
      "cell_type": "code",
      "source": [
        "dic = {14:[0,162,162],\n",
        "       1:[0,50,50]}\n",
        "colorir(dic)"
      ],
      "metadata": {
        "id": "5BlhT1uzctVq"
      },
      "execution_count": null,
      "outputs": []
    },
    {
      "cell_type": "code",
      "source": [
        "'''temp = str(img.tolist()) \n",
        "temp = temp.replace(str([232, 185, 174]),\"[0, 100, 255]\")\n",
        "temp = np.array(eval(temp))\n",
        "cv2.imwrite('df.png',temp)\n",
        "cv2_imshow(temp)'''"
      ],
      "metadata": {
        "id": "zYs-ZxN0Fjyf"
      },
      "execution_count": null,
      "outputs": []
    }
  ]
}